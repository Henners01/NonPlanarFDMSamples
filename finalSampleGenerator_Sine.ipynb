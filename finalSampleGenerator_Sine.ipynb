{
 "cells": [
  {
   "cell_type": "markdown",
   "metadata": {
    "id": "ac9_FmrCOwQL"
   },
   "source": [
    "# Non-Planar Sine Wave Sample Generator\n",
    "  \n",
    "press ctrl+F9 to run all cells in this notebook, or press shift+enter to run each cell sequentially\n",
    "\n",
    "if you change one of the code cells, make sure you run it and all subsequent cells again (in order)\n",
    "\n",
    "*this document is a jupyter notebook - if they're new to you, check out how they work: [link](https://www.google.com/search?q=ipynb+tutorial), [link](https://jupyter.org/try-jupyter/retro/notebooks/?path=notebooks/Intro.ipynb), [link](https://colab.research.google.com/)*\n",
    "### be patient :)\n",
    "\n",
    "the next code cell may take a while because running it causes several things to happen:\n",
    "- connect to a google colab server -> download the fullcontrol code -> install the fullcontrol code\n",
    "\n",
    "check out [other tutorials](https://github.com/FullControlXYZ/fullcontrol/blob/master/docs/README.md) to understand the python code for the FullControl design"
   ]
  },
  {
   "cell_type": "code",
   "execution_count": 1,
   "metadata": {
    "id": "57XXnogSOvDx",
    "tags": []
   },
   "outputs": [],
   "source": [
    "!pip install git+https://github.com/FullControlXYZ/fullcontrol --quiet\n",
    "import fullcontrol as fc\n",
    "import lab.fullcontrol as fclab\n",
    "from math import tau, radians\n",
    "import numpy as np"
   ]
  },
  {
   "cell_type": "code",
   "execution_count": 2,
   "metadata": {
    "id": "-oO3Dr1QADSy",
    "tags": []
   },
   "outputs": [],
   "source": [
    "# printer/gcode parameters\n",
    "\n",
    "design_name = 'Sine Bone Sample Compression'\n",
    "nozzle_temp = 200\n",
    "bed_temp = 60\n",
    "print_speed = 750\n",
    "fan_percent = 100\n",
    "printer_name='generic' # generic / ultimaker2plus / prusa_i3 / ender_3 / cr_10 / bambulab_x1 / toolchanger_T0"
   ]
  },
  {
   "cell_type": "code",
   "execution_count": 3,
   "metadata": {
    "id": "kLPh7aTwQKrF",
    "tags": []
   },
   "outputs": [],
   "source": [
    "# design parameters\n",
    "\n",
    "EW = 0.6 # extrusion width\n",
    "EH = 0.2 # extrusion height (and layer height)\n",
    "initial_z = EH*0.6 # initial nozzle position is set to 0.6x the extrusion height to get a bit of 'squish' for good bed adhesion\n",
    "\n",
    "solid_layers = 0 #number of solid layers at the top/bottom to mount the sample\n",
    "mount_layers = 20 #number of layers at the top/bottom to transition from solid to \n",
    "sweeping_layers = 0 #number of layers between the thick and thin sections\n",
    "sample_layers = 85 #number of layers in the thin section of the sample\n",
    "\n",
    "\n",
    "sampleWidth = 8 # width of the sample probs gonna make this an array to vary width with height\n",
    "amplitude = 0 #width/2 added to the section that is clamped\n",
    "squareSize = sampleWidth+2*amplitude\n",
    "sine_height_max = 0.6 #3* layer height\n",
    "\n",
    "brimCount = 16\n",
    "resolution = 15 #odd to ensure peak is within the samples\n",
    "\n",
    "originX = 90 #center X of the design\n",
    "originY = 90 #center Y of the design"
   ]
  },
  {
   "cell_type": "code",
   "execution_count": 4,
   "metadata": {
    "id": "kLPh7aTwQKrF",
    "tags": []
   },
   "outputs": [],
   "source": [
    "# generate the design (make sure you've run the above cells before running this cell)\n",
    "sine_height = 0\n",
    "steps = []\n",
    "width = sampleWidth + 2*amplitude\n",
    "ZZfade = 0\n",
    "\n",
    "radius = width/2 #I cant think of a better variable name soz\n",
    "sampleR = sampleWidth/2 #same^\n",
    "\n",
    "def x_layer():\n",
    "    \n",
    "    \n",
    "    radius = width/2 #I cant think of a better variable name soz\n",
    "    sampleR = sampleWidth/2 #same^\n",
    "    wave_Z = np.linspace(0, 2*np.pi, resolution)\n",
    "    wave_Z = sine_height * (-np.cos(wave_Z)+1)/2\n",
    "    xy_array = np.linspace(0, radius, resolution)\n",
    "\n",
    "    \n",
    "    #square\n",
    "    steps.extend(fc.rectangleXY(fc.Point(x=originX-radius, y=originY-radius, z=initial_z+layer*EH), width, width))\n",
    "    \n",
    "    #cross\n",
    "    for point in range(0,resolution):\n",
    "        steps.append(fc.Point(x=originX-np.flip(xy_array)[point], y=originY-np.flip(xy_array)[point], z=initial_z+layer*EH+wave_Z[point]))\n",
    "    for point in range(resolution):\n",
    "        steps.append(fc.Point(x=originX+xy_array[point], y=originY+xy_array[point], z=initial_z+layer*EH+wave_Z[point]))\n",
    "        \n",
    "    steps.extend([fc.Extruder(on=False), fc.Point(x=originX-radius, y=originY+radius, z=initial_z+layer*EH), fc.Extruder(on=True)])\n",
    "    \n",
    "    for point in range(resolution):\n",
    "        steps.append(fc.Point(x=originX-np.flip(xy_array)[point], y=originY+np.flip(xy_array)[point], z=initial_z+layer*EH+wave_Z[point]))\n",
    "    for point in range(resolution):\n",
    "        steps.append(fc.Point(x=originX+xy_array[point], y=originY-xy_array[point], z=initial_z+layer*EH+wave_Z[point]))\n",
    "        #print(np.flip(xy_array)[point])\n",
    "    \n",
    "        \n",
    "    #diamond\n",
    "    steps.extend([fc.Extruder(on=False), fc.Point(x=originX, y=originY-radius, z=initial_z+layer*EH), fc.Extruder(on=True)])\n",
    "    for point in range(resolution):\n",
    "        steps.append(fc.Point(x=originX+xy_array[point], y=originY-np.flip(xy_array)[point], z=initial_z+layer*EH+wave_Z[point]))\n",
    "        \n",
    "    for point in range(resolution):\n",
    "        steps.append(fc.Point(x=originX+np.flip(xy_array)[point], y=originY+xy_array[point], z=initial_z+layer*EH+wave_Z[point]))\n",
    "        \n",
    "    for point in range(resolution):\n",
    "        steps.append(fc.Point(x=originX-xy_array[point], y=originY+np.flip(xy_array)[point], z=initial_z+layer*EH+wave_Z[point]))\n",
    "        \n",
    "    for point in range(resolution):\n",
    "        steps.append(fc.Point(x=originX-np.flip(xy_array)[point], y=originY-xy_array[point], z=initial_z+layer*EH+wave_Z[point]))\n",
    "        \n",
    "    #Move to starting Position\n",
    "    steps.extend([fc.Extruder(on=False), fc.Point(x=originX-radius, y=originY-radius, z=initial_z+layer*EH), fc.Extruder(on=True)])\n",
    "    \n",
    "    #steps.extend(fc.rectangleXY(fc.Point(x=originX-radius, y=originY-radius, z=initial_z+layer*EH), width, width))\n",
    "    #moveto bottomright\n",
    "    #steps.extend([fc.Extruder(on=False), fc.Point(x=originX+radius, y=originY-radius, z=initial_z+layer*EH), fc.Extruder(on=True)])\n",
    "    #zigzag steps\n",
    "    #steps.append(fc.Point(x=originX+sampleR, y=originY-sampleR, z=initial_z+layer*EH)) #flat under curve\n",
    "    ##steps.append(fc.Point(x=originX+sampleR/2, y=originY-sampleR/2, z=initial_z+layer*EH+sine_height))\n",
    "    #steps.append(fc.Point(x=originX, y=originY, z=initial_z+layer*EH))\n",
    "    #steps.append(fc.Point(x=originX-sampleR/2, y=originY+sampleR/2, z=initial_z+layer*EH+sine_height))\n",
    "    #steps.append(fc.Point(x=originX-sampleR, y=originY+sampleR, z=initial_z+layer*EH))\n",
    "    #printto topleft\n",
    "    #steps.append(fc.Point(x=originX-radius, y=originY+radius, z=initial_z+layer*EH))\n",
    "    \n",
    "    #moveto topright\n",
    "    #steps.extend([fc.Extruder(on=False), fc.Point(x=originX+radius, y=originY+radius, z=initial_z+layer*EH), fc.Extruder(on=True)])\n",
    "    #zigzag steps\n",
    "    #steps.append(fc.Point(x=originX+sampleR, y=originY+sampleR, z=initial_z+layer*EH))\n",
    "    #steps.append(fc.Point(x=originX+sampleR/2, y=originY+sampleR/2, z=initial_z+layer*EH+sine_height))\n",
    "    #steps.append(fc.Point(x=originX, y=originY, z=initial_z+layer*EH))\n",
    "    #steps.append(fc.Point(x=originX-sampleR/2, y=originY-sampleR/2, z=initial_z+layer*EH+sine_height))\n",
    "    #steps.append(fc.Point(x=originX-sampleR, y=originY-sampleR, z=initial_z+layer*EH))\n",
    "    #printto bottomleft\n",
    "    #steps.append(fc.Point(x=originX-radius, y=originY-radius, z=initial_z+layer*EH))\n",
    "    \n",
    "    \n",
    "\n",
    "#    if layer == 0:\n",
    "#        if brimcount > 0:\n",
    "#            steps.extend(fc.rectangleXY(fc.Point(x=originX-radius-brimcount*EW, y=originY-radius-brimcount*EW, z=initial_z), width+2*(brimcount*EW), width+2*(brimcount*EW)))\n",
    "#            brimcounnt = brimcount-1\n",
    "            \n",
    "for layer in range (0,solid_layers):\n",
    "    \n",
    "    if layer<2:\n",
    "        squareSize = squareSize+brimCount*EW\n",
    "    \n",
    "    steps.extend([fc.Extruder(on=False), fc.Point(x=originX-squareSize/2, y=originY-squareSize/2, z=initial_z+layer*EH), fc.Extruder(on=True)])\n",
    "    while squareSize > 0.6:\n",
    "        steps.extend(fc.rectangleXY(fc.Point(x=originX-squareSize/2, y=originY-squareSize/2, z=initial_z+layer*EH), squareSize, squareSize))\n",
    "        squareSize = squareSize - 2*EW\n",
    "    squareSize = width \n",
    "    \n",
    "    \n",
    "for layer in range (solid_layers,solid_layers+mount_layers):\n",
    "    \n",
    "    \n",
    "    #bottom layers, thicker to allow the sample to be gripped\n",
    "    x_layer()\n",
    "    if sine_height < sine_height_max:\n",
    "        sine_height = sine_height+0.06\n",
    "        \n",
    "    \n",
    "for layer in range(solid_layers+mount_layers,solid_layers+mount_layers+sweeping_layers):\n",
    "\n",
    "    #gradually decrease the width to the desired sample width\n",
    "    width = sampleWidth + amplitude  + amplitude*np.cos((np.pi*(layer - (solid_layers+mount_layers))/(sweeping_layers)))\n",
    "    \n",
    "    x_layer()\n",
    "    \n",
    "for layer in range(solid_layers+mount_layers+sweeping_layers, solid_layers+mount_layers+sweeping_layers+sample_layers):\n",
    "\n",
    "    #sample section that will fail\n",
    "    x_layer()\n",
    "    \n",
    "for layer in range(solid_layers+mount_layers+sweeping_layers+sample_layers, solid_layers+mount_layers+sweeping_layers+sample_layers+sweeping_layers):\n",
    "\n",
    "    #gradually increase the width back to the wider layers\n",
    "    width = sampleWidth + amplitude  + amplitude*np.cos((np.pi + np.pi*(layer - (solid_layers+mount_layers+sweeping_layers+sample_layers))/sweeping_layers))\n",
    "    \n",
    "    x_layer()\n",
    "    \n",
    "for layer in range (solid_layers+mount_layers+sweeping_layers+sample_layers+sweeping_layers, solid_layers+mount_layers+sweeping_layers+sample_layers+sweeping_layers+mount_layers):\n",
    "    \n",
    "    #top layers, thicker to allow the sample to be gripped\n",
    "    x_layer()\n",
    "    if layer >= 2*(mount_layers+sweeping_layers)+sample_layers-12:\n",
    "         if sine_height > 0:   \n",
    "            sine_height = sine_height-0.06       \n",
    "#move nozzle to prevent blob forming\n",
    "\n",
    "for layer in range (solid_layers+mount_layers+sweeping_layers+sample_layers+sweeping_layers+mount_layers,solid_layers+mount_layers+sweeping_layers+sample_layers+sweeping_layers+mount_layers+solid_layers):\n",
    "    if layer != (solid_layers+mount_layers+sweeping_layers+sample_layers+sweeping_layers+mount_layers):\n",
    "        steps.extend([fc.Extruder(on=False), fc.Point(x=originX-width/2, y=originY-width/2, z=initial_z+layer*EH), fc.Extruder(on=True)])\n",
    "    while squareSize > 0.6:\n",
    "        steps.extend(fc.rectangleXY(fc.Point(x=originX-squareSize/2, y=originY-squareSize/2, z=initial_z+layer*EH), squareSize, squareSize))\n",
    "        squareSize = squareSize - 2*EW\n",
    "    squareSize = width \n",
    "    \n",
    "steps.extend([fc.Extruder(on=False), fc.Point(x=originX-10, y=originY-10, z=initial_z+layer*EH+1), fc.Extruder(on=True)])\n",
    "steps.append(fc.Point(x=originX-11, y=originY-10, z=initial_z+layer*EH+1)) #extrude a tiny amount to make the move happen           \n",
    "    \n",
    "# instead of the above for-loop code, you can create the exact same design using built-in FullControl functions (uncomment the next two lines):\n",
    "# rectangle_steps = fc.rectangleXY(fc.Point(x=50, y=50, z=initial_z), 50, 50)\n",
    "# steps = fc.move(rectangle_steps, fc.Vector(z=EH), copy=True, copy_quantity=layers)"
   ]
  },
  {
   "cell_type": "code",
   "execution_count": 5,
   "metadata": {
    "tags": []
   },
   "outputs": [],
   "source": [
    "# preview the design\n",
    "fc.transform(steps, 'plot', fc.PlotControls(style='line', zoom=0.7))\n",
    "# hover the cursor over the lines in the plot to check xyz positions of the points in the design\n",
    "\n",
    "# uncomment the next line to create a plot with real heights/widths for extruded lines to preview the real 3D printed geometry\n",
    "# fc.transform(steps, 'plot', fc.PlotControls(style='tube', zoom=0.7, initialization_data={'extrusion_width': EW, 'extrusion_height': EH}))\n",
    "\n",
    "# uncomment the next line to create a neat preview (click the top-left button in the plot for a .png file) - post and tag @FullControlXYZ :)\n",
    "# fc.transform(steps, 'plot', fc.PlotControls(neat_for_publishing=True, zoom=0.5, initialization_data={'extrusion_width': EW, 'extrusion_height': EH}))"
   ]
  },
  {
   "cell_type": "code",
   "execution_count": 6,
   "metadata": {
    "id": "tggFoUeJReQR",
    "tags": []
   },
   "outputs": [
    {
     "data": {
      "text/plain": [
       "574253"
      ]
     },
     "execution_count": 6,
     "metadata": {},
     "output_type": "execute_result"
    }
   ],
   "source": [
    "# generate and save gcode\n",
    "\n",
    "gcode_controls = fc.GcodeControls(\n",
    "    printer_name=printer_name,\n",
    "\n",
    "    initialization_data={\n",
    "        'primer': 'front_lines_then_y',\n",
    "        'print_speed': print_speed,\n",
    "        'nozzle_temp': nozzle_temp,\n",
    "        'bed_temp': bed_temp,\n",
    "        'fan_percent': fan_percent,\n",
    "        'extrusion_width': EW,\n",
    "        'extrusion_height': EH})\n",
    "gcode = fc.transform(steps, 'gcode', gcode_controls)\n",
    "open(f'{design_name}.gcode', 'w').write(gcode)\n",
    "#files.download(f'{design_name}.gcode')\n",
    "\n"
   ]
  },
  {
   "cell_type": "markdown",
   "metadata": {
    "tags": []
   },
   "source": [
    "#### please tell us what you're doing with FullControl!\n",
    "\n",
    "- tag FullControlXYZ on social media ([twitter](https://twitter.com/FullControlXYZ), [instagram](https://www.instagram.com/fullcontrolxyz/), [linkedin](https://www.linkedin.com/in/andrew-gleadall-068587119/), [tiktok](https://www.tiktok.com/@fullcontrolxyz))\n",
    "- email [info@fullcontrol.xyz](mailto:info@fullcontrol.xyz)\n",
    "- post on the [subreddit](https://reddit.com/r/fullcontrol)\n",
    "- post in the [github discussions or issues tabs](https://github.com/FullControlXYZ/fullcontrol/issues)\n",
    "\n",
    "in publications, please cite the original FullControl paper and the github repo for the new python version:\n",
    "\n",
    "- Gleadall, A. (2021). FullControl GCode Designer: open-source software for unconstrained design in additive manufacturing. Additive Manufacturing, 46, 102109.\n",
    "- Gleadall, A. and Leas, D. (2023). FullControl [electronic resource: python source code]. available at: https://github.com/FullControlXYZ/fullcontrol"
   ]
  }
 ],
 "metadata": {
  "colab": {
   "provenance": []
  },
  "kernelspec": {
   "display_name": "Python 3 (ipykernel)",
   "language": "python",
   "name": "python3"
  },
  "language_info": {
   "codemirror_mode": {
    "name": "ipython",
    "version": 3
   },
   "file_extension": ".py",
   "mimetype": "text/x-python",
   "name": "python",
   "nbconvert_exporter": "python",
   "pygments_lexer": "ipython3",
   "version": "3.11.5"
  }
 },
 "nbformat": 4,
 "nbformat_minor": 4
}
